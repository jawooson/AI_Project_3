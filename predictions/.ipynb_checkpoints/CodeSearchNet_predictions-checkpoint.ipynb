{
 "cells": [
  {
   "cell_type": "code",
   "execution_count": 3,
   "metadata": {},
   "outputs": [
    {
     "data": {
      "text/html": [
       "<div>\n",
       "<style scoped>\n",
       "    .dataframe tbody tr th:only-of-type {\n",
       "        vertical-align: middle;\n",
       "    }\n",
       "\n",
       "    .dataframe tbody tr th {\n",
       "        vertical-align: top;\n",
       "    }\n",
       "\n",
       "    .dataframe thead th {\n",
       "        text-align: right;\n",
       "    }\n",
       "</style>\n",
       "<table border=\"1\" class=\"dataframe\">\n",
       "  <thead>\n",
       "    <tr style=\"text-align: right;\">\n",
       "      <th></th>\n",
       "      <th>query</th>\n",
       "      <th>language</th>\n",
       "      <th>identifier</th>\n",
       "      <th>url</th>\n",
       "    </tr>\n",
       "  </thead>\n",
       "  <tbody>\n",
       "    <tr>\n",
       "      <th>0</th>\n",
       "      <td>convert int to string</td>\n",
       "      <td>python</td>\n",
       "      <td>Bcp47LanguageParser.IntToIntStr26</td>\n",
       "      <td>https://github.com/google/transitfeed/blob/eb2...</td>\n",
       "    </tr>\n",
       "    <tr>\n",
       "      <th>1</th>\n",
       "      <td>convert int to string</td>\n",
       "      <td>python</td>\n",
       "      <td>_Meta.convert_to_integer</td>\n",
       "      <td>https://github.com/DeepHorizons/iarm/blob/b913...</td>\n",
       "    </tr>\n",
       "    <tr>\n",
       "      <th>2</th>\n",
       "      <td>convert int to string</td>\n",
       "      <td>python</td>\n",
       "      <td>SNMPoster.tryIntConvert</td>\n",
       "      <td>https://github.com/cluther/snmposter/blob/3d9f...</td>\n",
       "    </tr>\n",
       "    <tr>\n",
       "      <th>3</th>\n",
       "      <td>convert int to string</td>\n",
       "      <td>python</td>\n",
       "      <td>to_str</td>\n",
       "      <td>https://github.com/lawsie/guizero/blob/84c7f0b...</td>\n",
       "    </tr>\n",
       "    <tr>\n",
       "      <th>4</th>\n",
       "      <td>convert int to string</td>\n",
       "      <td>python</td>\n",
       "      <td>HttpSdk.convert_headers_to_native_str</td>\n",
       "      <td>https://github.com/ivanprjcts/sdklib/blob/7ba4...</td>\n",
       "    </tr>\n",
       "  </tbody>\n",
       "</table>\n",
       "</div>"
      ],
      "text/plain": [
       "                   query language                             identifier  \\\n",
       "0  convert int to string   python      Bcp47LanguageParser.IntToIntStr26   \n",
       "1  convert int to string   python               _Meta.convert_to_integer   \n",
       "2  convert int to string   python                SNMPoster.tryIntConvert   \n",
       "3  convert int to string   python                                 to_str   \n",
       "4  convert int to string   python  HttpSdk.convert_headers_to_native_str   \n",
       "\n",
       "                                                 url  \n",
       "0  https://github.com/google/transitfeed/blob/eb2...  \n",
       "1  https://github.com/DeepHorizons/iarm/blob/b913...  \n",
       "2  https://github.com/cluther/snmposter/blob/3d9f...  \n",
       "3  https://github.com/lawsie/guizero/blob/84c7f0b...  \n",
       "4  https://github.com/ivanprjcts/sdklib/blob/7ba4...  "
      ]
     },
     "execution_count": 3,
     "metadata": {},
     "output_type": "execute_result"
    }
   ],
   "source": [
    "import pandas as pd\n",
    "import numpy as np\n",
    "\n",
    "df = pd.read_csv(\"model_predictions.csv\")\n",
    "\n",
    "df.head()"
   ]
  },
  {
   "cell_type": "code",
   "execution_count": 2,
   "metadata": {},
   "outputs": [
    {
     "data": {
      "text/plain": [
       "array(['aes encryption', 'all permutations of a list',\n",
       "       'binomial distribution', 'buffered file reader read text',\n",
       "       'concatenate several file remove header lines', 'confusion matrix',\n",
       "       'connect to sql', 'convert a date string into yyyymmdd',\n",
       "       'convert a utc time to epoch', 'convert decimal to hex',\n",
       "       'convert html to pdf', 'convert int to bool',\n",
       "       'convert int to string', 'convert json to csv',\n",
       "       'convert string to number', 'converting uint8 array to image',\n",
       "       'copy to clipboard', 'copying a file to a path', 'create cookie',\n",
       "       'custom http error response',\n",
       "       'deducting the median from each column', 'deserialize json',\n",
       "       'encode url', 'encrypt aes ctr mode', 'export to excel',\n",
       "       'extract data from html content',\n",
       "       'extract latitude and longitude from given input',\n",
       "       'extracting data from a text file', 'filter array',\n",
       "       'find int in string', 'finding time elapsed using a timer',\n",
       "       'format date', 'fuzzy match ranking',\n",
       "       'get all parents of xml node', 'get current ip address',\n",
       "       'get current observable value', 'get current process id',\n",
       "       'get executable path', 'get inner html',\n",
       "       'get name of enumerated value',\n",
       "       'get the description of a http status code', 'group by count',\n",
       "       'hash set for counting distinct elements',\n",
       "       'heatmap from 3d coordinates',\n",
       "       'how to check if a checkbox is checked',\n",
       "       'how to determine a string is a valid word', 'how to empty array',\n",
       "       'how to extract zip file recursively', 'how to get current date',\n",
       "       'how to get database table name', 'how to get html of website',\n",
       "       'how to make the checkbox checked',\n",
       "       'how to randomly pick a number',\n",
       "       'how to read .csv file in an efficient way?',\n",
       "       'how to read the contents of a .gz compressed file?',\n",
       "       'how to reverse a string', 'html encode string',\n",
       "       'html entities replace', 'httpclient post json',\n",
       "       'initializing array', 'json to xml conversion',\n",
       "       'k means clustering', 'linear regression', 'map to json',\n",
       "       'matrix multiply', 'memoize to disk  - persistent memoization',\n",
       "       'nelder mead optimize', 'normal distribution',\n",
       "       'output to html file', 'parse binary file to custom class',\n",
       "       'parse command line argument', 'parse json file',\n",
       "       'parse query string in url', 'positions of substrings in string',\n",
       "       'postgresql connection', 'pretty print json',\n",
       "       'print model summary', 'priority queue',\n",
       "       'randomly extract x items from a list', 'read properties file',\n",
       "       'read text file line by line', 'reading element from html - <td>',\n",
       "       'readonly array', 'regex case insensitive', 'replace in file',\n",
       "       'save list to file', 'scatter plot',\n",
       "       'sending binary data over a serial connection',\n",
       "       'set file attrib hidden', 'set working directory',\n",
       "       'socket recv timeout', 'sort string list',\n",
       "       'sorting multiple arrays based on another arrays sorted order',\n",
       "       'string similarity levenshtein', 'string to date',\n",
       "       'underline text in label widget', 'unique elements',\n",
       "       'unzipping large files', 'write csv'], dtype=object)"
      ]
     },
     "execution_count": 2,
     "metadata": {},
     "output_type": "execute_result"
    }
   ],
   "source": [
    "# The queries defined by CodeSearchNet\n",
    "\n",
    "np.unique(df['query'])"
   ]
  },
  {
   "cell_type": "code",
   "execution_count": 4,
   "metadata": {},
   "outputs": [
    {
     "data": {
      "text/plain": [
       "99"
      ]
     },
     "execution_count": 4,
     "metadata": {},
     "output_type": "execute_result"
    }
   ],
   "source": [
    "# Showing that there are 99 unique NLP queries\n",
    "len(np.unique(df['query']))"
   ]
  },
  {
   "cell_type": "code",
   "execution_count": null,
   "metadata": {},
   "outputs": [],
   "source": []
  }
 ],
 "metadata": {
  "kernelspec": {
   "display_name": "Python 3",
   "language": "python",
   "name": "python3"
  },
  "language_info": {
   "codemirror_mode": {
    "name": "ipython",
    "version": 3
   },
   "file_extension": ".py",
   "mimetype": "text/x-python",
   "name": "python",
   "nbconvert_exporter": "python",
   "pygments_lexer": "ipython3",
   "version": "3.7.6"
  }
 },
 "nbformat": 4,
 "nbformat_minor": 4
}
